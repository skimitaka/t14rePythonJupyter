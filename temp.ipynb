{
 "cells": [
  {
   "cell_type": "code",
   "execution_count": 1,
   "id": "a0bcf72f-6ea7-468d-9a34-9a272ebaebac",
   "metadata": {},
   "outputs": [],
   "source": [
    "import serial\n",
    "from serial.tools import list_ports\n",
    "import cv2\n",
    "import time\n",
    "import numpy as np\n",
    "import datetime\n",
    "import queue\n",
    "import scipy.io\n",
    "import threading\n",
    "import os\n",
    "import glob\n",
    "import sys"
   ]
  },
  {
   "cell_type": "code",
   "execution_count": 2,
   "id": "a8a40364-3e10-4ee7-9f63-5bee60da141f",
   "metadata": {},
   "outputs": [],
   "source": [
    "foldername = datetime.datetime.now().strftime('%Y-%m-%d-%H-%M-%S-%f_t14re')"
   ]
  },
  {
   "cell_type": "code",
   "execution_count": 3,
   "id": "cc832dc0-9e8c-4734-bebb-38b879695422",
   "metadata": {},
   "outputs": [
    {
     "data": {
      "text/plain": [
       "'2024-09-29-17-19-19-910110_t14re'"
      ]
     },
     "execution_count": 3,
     "metadata": {},
     "output_type": "execute_result"
    }
   ],
   "source": [
    "foldername"
   ]
  },
  {
   "cell_type": "code",
   "execution_count": null,
   "id": "77f1a5b1-0ca4-4310-8d5e-afb955d06c5b",
   "metadata": {},
   "outputs": [],
   "source": []
  }
 ],
 "metadata": {
  "kernelspec": {
   "display_name": "Python 3 (ipykernel)",
   "language": "python",
   "name": "python3"
  },
  "language_info": {
   "codemirror_mode": {
    "name": "ipython",
    "version": 3
   },
   "file_extension": ".py",
   "mimetype": "text/x-python",
   "name": "python",
   "nbconvert_exporter": "python",
   "pygments_lexer": "ipython3",
   "version": "3.8.19"
  }
 },
 "nbformat": 4,
 "nbformat_minor": 5
}
