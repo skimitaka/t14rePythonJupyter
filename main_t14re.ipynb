{
 "cells": [
  {
   "cell_type": "markdown",
   "id": "e67417d6-42e3-4f26-8fa8-537b08c9f41b",
   "metadata": {},
   "source": [
    "# Loading"
   ]
  },
  {
   "cell_type": "code",
   "execution_count": 1,
   "id": "e00182c8",
   "metadata": {},
   "outputs": [],
   "source": [
    "from t14re import T14re, Config, ConvertDataFromBin2Mat\n",
    "import datetime\n",
    "# import cv2"
   ]
  },
  {
   "cell_type": "markdown",
   "id": "6cb26829-1535-4b41-aaaa-51d74126f472",
   "metadata": {},
   "source": [
    "## View Com Port List"
   ]
  },
  {
   "cell_type": "code",
   "execution_count": 81,
   "id": "52143fed-f314-4fd1-bec7-351cbcdd3941",
   "metadata": {},
   "outputs": [
    {
     "name": "stdout",
     "output_type": "stream",
     "text": [
      "COM3  1-1.4:x.2\n",
      "COM4  1-1.4:x.4\n"
     ]
    }
   ],
   "source": [
    "port_list = list_ports.comports()\n",
    "\n",
    "for each_port in port_list:\n",
    "    print(f'{each_port.device}  {each_port.location}')\n"
   ]
  },
  {
   "cell_type": "markdown",
   "id": "edcaefb4-d49f-4983-971e-c678066a30be",
   "metadata": {},
   "source": [
    "## Device 1"
   ]
  },
  {
   "cell_type": "code",
   "execution_count": 78,
   "id": "6b4a3307",
   "metadata": {},
   "outputs": [
    {
     "name": "stdout",
     "output_type": "stream",
     "text": [
      "Selected port: COM3\n",
      "=debug this COM COM3\n",
      "Configuration data was sent successfully\n"
     ]
    }
   ],
   "source": [
    "# t14re_device1 = T14re()\n",
    "t14re_device1 = T14reDebug()\n",
    "\n",
    "#### T14RE 2D\n",
    "# cfgname = 'T14RE_2D_100fps.cfg'\n",
    "#### T14RE 3D\n",
    "cfgname = 'T14RE_3D_100fps.cfg'\n",
    "\n",
    "t14re_device1.load_and_send_config(cfgname)"
   ]
  },
  {
   "cell_type": "code",
   "execution_count": 79,
   "id": "394bcb17",
   "metadata": {},
   "outputs": [
    {
     "name": "stdout",
     "output_type": "stream",
     "text": [
      "width: 2048\n",
      "height: 120\n",
      "\n",
      "Connection has succeeded!\n"
     ]
    },
    {
     "data": {
      "text/plain": [
       "True"
      ]
     },
     "execution_count": 79,
     "metadata": {},
     "output_type": "execute_result"
    }
   ],
   "source": [
    "CaptureDeviceIndex = 0 # Disable any cameras except for a radar. Check Windows Device Manager.\n",
    "t14re_device1.connect_and_setup_radar(CaptureDeviceIndex)"
   ]
  },
  {
   "cell_type": "code",
   "execution_count": 80,
   "id": "e947a1e6",
   "metadata": {
    "scrolled": true
   },
   "outputs": [
    {
     "name": "stdout",
     "output_type": "stream",
     "text": [
      "Start datetime: 2024/09/29 20:26:19\n",
      "Capture until press q\n",
      "foldername: 2024-09-29-20-26-19-661516_T14RE_3D_100fps\n",
      "filecnt: 80"
     ]
    },
    {
     "name": "stdin",
     "output_type": "stream",
     "text": [
      "\n",
      "Press q to stop capturing:  q\n"
     ]
    },
    {
     "name": "stdout",
     "output_type": "stream",
     "text": [
      "filecnt: 81\n",
      "Finish\n"
     ]
    }
   ],
   "source": [
    "t14re_device1.capture(0)"
   ]
  },
  {
   "cell_type": "code",
   "execution_count": 89,
   "id": "14033fc9",
   "metadata": {},
   "outputs": [
    {
     "name": "stderr",
     "output_type": "stream",
     "text": [
      "Error: Already disconnected.\n"
     ]
    }
   ],
   "source": [
    "t14re_device1.disconnect()"
   ]
  },
  {
   "cell_type": "markdown",
   "id": "99a64a01-d6a4-479e-9537-2d4e476c7cc9",
   "metadata": {},
   "source": [
    "## Matlab Convert"
   ]
  },
  {
   "cell_type": "code",
   "execution_count": 5,
   "id": "294f9de2",
   "metadata": {},
   "outputs": [
    {
     "name": "stdout",
     "output_type": "stream",
     "text": [
      "Target directory: data_t14re/2023-12-15-12-23-00-488974_t14re\n",
      "filenum: 6314/6314"
     ]
    }
   ],
   "source": [
    "# convert \n",
    "#cfgname = 'T14RE_2D_100fps.cfg'\n",
    "#ConvertDataFromBin2Mat(cfgname)"
   ]
  },
  {
   "cell_type": "code",
   "execution_count": null,
   "id": "e9c4c291",
   "metadata": {},
   "outputs": [],
   "source": [
    "## if you want to specify the full path\n",
    "# path = r'C:\\Users\\IST-Lab\\Dropbox\\Lab_Dropbox\\t14re_dataCapApp\\data_t14re\\2023-02-16-17-14-15-692031_t14re'\n",
    "# ConvertDataFromBin2Mat(cfgname,path=path)"
   ]
  },
  {
   "cell_type": "code",
   "execution_count": 20,
   "id": "8ee144f2",
   "metadata": {},
   "outputs": [
    {
     "name": "stdout",
     "output_type": "stream",
     "text": [
      "COM3\n",
      "COM4\n",
      "COM7\n",
      "COM8\n"
     ]
    }
   ],
   "source": [
    "port_list = list_ports.comports()\n",
    "\n",
    "for each_port in port_list:\n",
    "    print(each_port.device)"
   ]
  },
  {
   "cell_type": "markdown",
   "id": "eb321b07",
   "metadata": {},
   "source": [
    "# Start capturing at a specified time"
   ]
  },
  {
   "cell_type": "code",
   "execution_count": null,
   "id": "8ffb0bc3",
   "metadata": {},
   "outputs": [],
   "source": [
    "startDatetime = datetime.datetime(2023,2,9,hour=10,minute=0,second=0)\n",
    "t14re.capture(0,startDatetime)"
   ]
  },
  {
   "cell_type": "markdown",
   "id": "3f2df35c",
   "metadata": {},
   "source": [
    "## Stop capturing at a specified time"
   ]
  },
  {
   "cell_type": "code",
   "execution_count": null,
   "id": "45c2888e",
   "metadata": {},
   "outputs": [],
   "source": [
    "startDatetime = datetime.datetime(2023,2,9,hour=10,minute=0,second=0)\n",
    "endDatetime = datetime.datetime(2023,2,9,hour=10,minute=40,second=50)\n",
    "t14re.capture(0,startDatetime,endDatetime)"
   ]
  },
  {
   "cell_type": "markdown",
   "id": "353a5d7d-d8d0-4a9e-b397-ee4a0b5b9333",
   "metadata": {},
   "source": [
    "# Debug\n",
    "## T14 Class"
   ]
  },
  {
   "cell_type": "raw",
   "id": "ead38da2-3acb-4e8e-b777-6e93cfe81faf",
   "metadata": {
    "scrolled": true
   },
   "source": [
    "import serial\n",
    "from serial.tools import list_ports\n",
    "import cv2\n",
    "import time\n",
    "import numpy as np\n",
    "import datetime\n",
    "import queue\n",
    "import scipy.io\n",
    "import threading\n",
    "import os\n",
    "import glob\n",
    "import sys\n",
    "# from ipdb import set_trace as st\n",
    "\n",
    "class T14reDebug():\n",
    "    def __init__(self, DefaultFolderName='data_t14re', COM_port=''):\n",
    "        self.config = 0\n",
    "        self.config_name = ''\n",
    "        self.COM_port = ''\n",
    "        self.q = queue.Queue(-1)\n",
    "        self.q_name = queue.Queue(-1)\n",
    "        self.isStopped = False\n",
    "        self.isConnected = False\n",
    "        self.cap = 0\n",
    "        self.DefaultFolderName = DefaultFolderName\n",
    "        self.framecnt = 0\n",
    "        self.getfilecnt = 0\n",
    "        self.savefilecnt = 0\n",
    "        self.MaxFiles = 0\n",
    "    \n",
    "    def get_com_port(self):            \n",
    "        ports = list_ports.comports()\n",
    "        port_device_list = [p.device for p in port_list]\n",
    "        \n",
    "        if not ports:\n",
    "            print('Error: No COM ports. Check connection.',file=sys.stderr)\n",
    "            return False\n",
    " \n",
    "        if self.COM_port:\n",
    "            if self.COM_port in port_device_list:\n",
    "                return self.COM_port        \n",
    "        else:\n",
    "            for p in ports:\n",
    "                if 'USB' in p.description and p.location[-1:] == '2': # for MMIC (MI_02)\n",
    "                    print('Selected port: ' + p.device)\n",
    "                    return p.device\n",
    "        \n",
    "        \n",
    "    def load_and_send_config(self,cfgname):\n",
    "        self.config = Config()\n",
    "        COM_port_for_MMIC = self.get_com_port()\n",
    "        print(f'=debug this COM {COM_port_for_MMIC}')\n",
    "        self.config.send_config(cfgname,COM_port_for_MMIC)\n",
    "        self.config_name = cfgname\n",
    "    \n",
    "    def connect_and_setup_radar(self,CaptureDeviceIndex):\n",
    "        # get VideoCapture object\n",
    "        # Window: settings for using Microsoft Media Foundation\n",
    "        width = self.config.profileCfg['numAdcSamples'] * self.config.NRx * 2\n",
    "        height = self.config.NumOfChirpsPerChirpset * self.config.frameCfg['ChirpsetsPerFrame'] * self.config.FramesPerData\n",
    "        print('width: ' + str(width))\n",
    "        print('height: ' + str(height))\n",
    "        \n",
    "        camera_num = self.count_camera_num()\n",
    "        if camera_num > 1:\n",
    "            print('\\nCAUTION: %d cameras are connected.' % camera_num)\n",
    "            s = 0\n",
    "            for _ in range(32):\n",
    "                s = input('\\nPlease disable any cameras except for a radar from the Device Manager and set CaptureDeviceIndex=0.\\n'\n",
    "                'Or, have you set an appropriate CaptureDeviceIndex? [y/n]: ')\n",
    "                if s=='y':\n",
    "                    break\n",
    "                elif s=='n':\n",
    "                    return False\n",
    "                else:\n",
    "                    print('\\nInvalid input!')\n",
    "\n",
    "        self.cap = cv2.VideoCapture(CaptureDeviceIndex, cv2.CAP_MSMF)\n",
    "        TF1 = self.cap.set(cv2.CAP_PROP_CONVERT_RGB, 0)\n",
    "        TF2 = self.cap.set(cv2.CAP_PROP_FORMAT, -1)\n",
    "        TF3 = self.cap.set(cv2.CAP_PROP_FRAME_WIDTH, width)\n",
    "        TF4 = self.cap.set(cv2.CAP_PROP_FRAME_HEIGHT, height)\n",
    "        if TF1 & TF2 & TF3 & TF4 & self.cap.isOpened():\n",
    "            self.isConnected = True\n",
    "            print('\\nConnection has succeeded!')\n",
    "        else:\n",
    "            self.isConnected = False\n",
    "            print('\\nError: Connection failed. Please unplug cables and reconnect.',file=sys.stderr)\n",
    "        return True\n",
    "        \n",
    "    def get_and_put_data(self):\n",
    "        while not self.isStopped:\n",
    "            self.getfilecnt += 1\n",
    "            ret, data = self.cap.read()\n",
    "            self.q.put(data)\n",
    "            filename = datetime.datetime.now().strftime('%Y-%m-%d-%H-%M-%S-%f_')\n",
    "            filename = filename + str(int(self.config.Fs)) + 'fps_' + str(self.getfilecnt) + '.bin'\n",
    "            self.q_name.put(filename)\n",
    "            # sys.stdout.write(f'\\rfilecnt: {self.getfilecnt}')\n",
    "            # sys.stdout.flush()\n",
    "            # print(self.getfilecnt)\n",
    "            print(f'\\rfilecnt: {self.getfilecnt}', end='')\n",
    "        print('\\nFinish')\n",
    "    \n",
    "    def save_data(self):\n",
    "        '''\n",
    "        Save data with binary.\n",
    "        '''\n",
    "        foldername_time = datetime.datetime.now().strftime('%Y-%m-%d-%H-%M-%S-%f')\n",
    "        foldername = foldername_time + '_' + self.config_name.replace('.cfg', '')\n",
    "        os.makedirs(self.DefaultFolderName + '/' + foldername)\n",
    "        print('foldername:',foldername)\n",
    "        \n",
    "        while not self.isStopped:\n",
    "            if self.q.qsize() > 1:\n",
    "                for _ in range(self.q.qsize()):\n",
    "                    filename = self.q_name.get(block=False)\n",
    "                    f = open(self.DefaultFolderName + '/' + foldername + '/' + filename,mode='ab')\n",
    "                    frame = self.q.get(block=False)\n",
    "                    f.write(frame.tobytes())\n",
    "                    f.close()\n",
    "                    self.savefilecnt += 1\n",
    "                    if self.getfilecnt >= self.MaxFiles and self.MaxFiles > 0:\n",
    "                        self.isStopped = True\n",
    "                        break\n",
    "                        \n",
    "        while self.savefilecnt < self.MaxFiles and self.MaxFiles > 0:\n",
    "            filename = self.q_name.get(block=False)\n",
    "            f = open(self.DefaultFolderName + '/' + foldername + '/' + filename,mode='ab')\n",
    "            frame = self.q.get(block=False)\n",
    "            f.write(frame.tobytes())\n",
    "            f.close()\n",
    "            self.savefilecnt += 1\n",
    "        \n",
    "    def capture(self,MaxFiles=0,startDatetime=0,endDatetime=0):\n",
    "        '''\n",
    "        Start capturing\n",
    "        if MaxFiles >= 1, radar captures MaxFiles files.\n",
    "        if MaxFiles <  1, PC waits for q key to stop (be careful with the data size).\n",
    "        '''\n",
    "        self.isStopped = False\n",
    "        self.getfilecnt = 0\n",
    "        self.savefilecnt = 0\n",
    "        while not self.q.empty():\n",
    "            self.q.get(block=False)\n",
    "        while not self.q_name.empty():\n",
    "            self.q_name.get(block=False)\n",
    "        \n",
    "        if startDatetime==0:\n",
    "            startDatetime = datetime.datetime.now()\n",
    "        \n",
    "        if self.waitUntilGivenDatetime(startDatetime):\n",
    "            now = datetime.datetime.now()\n",
    "            d = now.strftime('%Y/%m/%d %H:%M:%S')\n",
    "            print('Start datetime:',d)\n",
    "            \n",
    "            if MaxFiles<1:\n",
    "                self.MaxFiles = -1\n",
    "                if endDatetime==0:\n",
    "                    print('Capture until press q')\n",
    "                    thread1 = threading.Thread(target=self.get_and_put_data)\n",
    "                    thread2 = threading.Thread(target=self.save_data)\n",
    "                    thread3 = threading.Thread(target=self.PressQuitKeyEvent)\n",
    "                    thread1.start()\n",
    "                    thread2.start()\n",
    "                    thread3.start()\n",
    "                    thread1.join()\n",
    "                    thread2.join()\n",
    "                    thread3.join()\n",
    "                else:\n",
    "                    print('Capture until the specified time')\n",
    "                    thread1 = threading.Thread(target=self.get_and_put_data)\n",
    "                    thread2 = threading.Thread(target=self.save_data)\n",
    "                    thread3 = threading.Thread(target=self.stopAtSpecifiedTime,args=(endDatetime,))\n",
    "                    thread1.start()\n",
    "                    thread2.start()\n",
    "                    thread3.start()\n",
    "                    thread1.join()\n",
    "                    thread2.join()\n",
    "                    thread3.join()\n",
    "            else:\n",
    "                print('Capture for decided number of files')\n",
    "                self.MaxFiles = MaxFiles\n",
    "                thread1 = threading.Thread(target=self.get_and_put_data)\n",
    "                thread2 = threading.Thread(target=self.save_data)\n",
    "                thread1.start()\n",
    "                thread2.start()\n",
    "                thread1.join()\n",
    "                thread2.join()\n",
    "\n",
    "    def disconnect(self):\n",
    "        '''\n",
    "        Disconnect radar.\n",
    "        '''\n",
    "        if self.isConnected:\n",
    "            self.cap.release()\n",
    "            self.isConnected = False\n",
    "            print('Disconnect.')\n",
    "        else:\n",
    "            print('Error: Already disconnected.', file=sys.stderr)\n",
    "    \n",
    "    def count_camera_num(self):\n",
    "        cameraNum = 0\n",
    "        for cameraId in range(5):\n",
    "            cap = cv2.VideoCapture(cameraId,cv2.CAP_MSMF)\n",
    "            if cap.isOpened():\n",
    "                cameraNum += 1\n",
    "            cap.release()\n",
    "        return cameraNum\n",
    "    \n",
    "    def PressQuitKeyEvent(self):\n",
    "        s = 0\n",
    "        while s!='q':\n",
    "            s = input('\\nPress q to stop capturing: ')\n",
    "        self.isStopped = True\n",
    "        \n",
    "    def waitUntilGivenDatetime(self,Datetime):\n",
    "        while True:\n",
    "            diff_start = datetime.datetime.now() - Datetime\n",
    "            if diff_start.days < 0:\n",
    "                time.sleep(1)\n",
    "            else:\n",
    "                break\n",
    "        return True\n",
    "    \n",
    "    def stopAtSpecifiedTime(self,endDatetime):\n",
    "        if self.waitUntilGivenDatetime(endDatetime):\n",
    "            now = datetime.datetime.now()\n",
    "            d = now.strftime('%Y/%m/%d %H:%M:%S')\n",
    "            print('\\nStop datetime:',d)\n",
    "            self.isStopped = True\n",
    "        return True\n",
    "            \n",
    "class Config():\n",
    "    def __init__(self):\n",
    "        self.profileCfg = {}\n",
    "        self.frameCfg = {}\n",
    "        self.FramesPerData = 0\n",
    "        self.NumOfChirpsPerChirpset = 0\n",
    "        self.NRx = 0\n",
    "        self.NTx = 0\n",
    "        self.Fs = 0\n",
    "        self.TxOrder = []\n",
    "    \n",
    "    def load_config(self,cfgname):\n",
    "        # get contents of config file\n",
    "        file = open(cfgname)\n",
    "        commands = file.readlines()\n",
    "        file.close()\n",
    "        \n",
    "        for i in range(len(commands)):\n",
    "            tmp_cfg = commands[i].replace('\\r','')\n",
    "            tmp_cfg = commands[i].replace('\\n','')\n",
    "            tmp_cfg = tmp_cfg.split()\n",
    "            if tmp_cfg[0]=='profileCfg':\n",
    "                self.profileCfg['profileId'] = int(tmp_cfg[1])\n",
    "                self.profileCfg['startFreq'] = float(tmp_cfg[2]) # GHz\n",
    "                self.profileCfg['idleTime'] = float(tmp_cfg[3]) # us\n",
    "                self.profileCfg['adcStartTime'] = float(tmp_cfg[4]) # us\n",
    "                self.profileCfg['rampEndTime'] = float(tmp_cfg[5]) # us\n",
    "                self.profileCfg['txOutPower'] = float(tmp_cfg[6])\n",
    "                self.profileCfg['txPhaseShifter'] = float(tmp_cfg[7])\n",
    "                self.profileCfg['freqSlopeConst'] = float(tmp_cfg[8]) # MHz/us\n",
    "                self.profileCfg['txStartTime'] = float(tmp_cfg[9]) # us\n",
    "                self.profileCfg['numAdcSamples'] = int(tmp_cfg[10]) \n",
    "                self.profileCfg['digOutSampleRate'] = int(tmp_cfg[11]) # kilo samples per sec\n",
    "\n",
    "                hpfCornerFreq1_idx = int(tmp_cfg[12])\n",
    "                if hpfCornerFreq1_idx==0:\n",
    "                    self.profileCfg['hpfCornerFreq1'] = 175 # kHz\n",
    "                elif hpfCornerFreq1_idx==1:\n",
    "                    self.profileCfg['hpfCornerFreq1'] = 235\n",
    "                elif hpfCornerFreq1_idx==2:\n",
    "                    self.profileCfg['hpfCornerFreq1'] = 350\n",
    "                elif hpfCornerFreq1_idx==3:\n",
    "                    self.profileCfg['hpfCornerFreq1'] = 700\n",
    "\n",
    "                hpfCornerFreq2_idx = int(tmp_cfg[13])\n",
    "                if hpfCornerFreq2_idx==0:\n",
    "                    self.profileCfg['hpfCornerFreq2'] = 350 # kHz\n",
    "                elif hpfCornerFreq2_idx==1:\n",
    "                    self.profileCfg['hpfCornerFreq2'] = 700\n",
    "                elif hpfCornerFreq2_idx==2:\n",
    "                    self.profileCfg['hpfCornerFreq2'] = 1400\n",
    "                elif hpfCornerFreq2_idx==3:\n",
    "                    self.profileCfg['hpfCornerFreq2'] = 2800\n",
    "                \n",
    "                self.profileCfg['rxGain'] = float(tmp_cfg[14])\n",
    "                \n",
    "            elif tmp_cfg[0]=='frameCfg':\n",
    "                self.frameCfg['ChirpStartIndex'] = int(tmp_cfg[1])\n",
    "                self.frameCfg['ChirpEndIndex'] = int(tmp_cfg[2])\n",
    "                self.frameCfg['ChirpsetsPerFrame'] = int(tmp_cfg[3]) # same as 'number of loops' in TI document\n",
    "                self.frameCfg['NumberOfFrames'] = int(tmp_cfg[4]) # 0 means infinite\n",
    "                self.frameCfg['Periodicity'] = float(tmp_cfg[5]) # ms\n",
    "                self.Fs = 1/(self.frameCfg['Periodicity']*1e-3) # framerate \n",
    "                self.frameCfg['TriggerSelect'] = int(tmp_cfg[6]) # 1: software 2: hardware\n",
    "                self.frameCfg['FrameTriggerDelay'] = float(tmp_cfg[7]) # ms\n",
    "            \n",
    "            elif tmp_cfg[0]=='channelCfg':\n",
    "                self.NRx = self.count_ones_by_bin(int(tmp_cfg[1]))\n",
    "                self.NTx = self.count_ones_by_bin(int(tmp_cfg[2]))\n",
    "                \n",
    "            elif tmp_cfg[0]=='chirpCfg':\n",
    "                self.NumOfChirpsPerChirpset += 1\n",
    "                self.TxOrder.append(tmp_cfg[-1])\n",
    "                \n",
    "            elif 'framesPerData' in tmp_cfg[0]:\n",
    "                self.FramesPerData = int(tmp_cfg[-1])\n",
    "        return commands\n",
    "    \n",
    "    def send_config(self,cfgname,COM_port):\n",
    "        commands = self.load_config(cfgname)\n",
    "        \n",
    "        baudrate = 115200\n",
    "        serialCommand = serial.Serial(COM_port,baudrate)\n",
    "        serialCommand.reset_output_buffer()\n",
    "        serialCommand.reset_input_buffer()\n",
    "\n",
    "        # send command\n",
    "        for command in commands:\n",
    "            if self.SendCommand(serialCommand, command) == False:\n",
    "                print('Error: Failed to send command.', file=sys.stderr)\n",
    "                serialCommand.close()\n",
    "                return False\n",
    "\n",
    "        serialCommand.close()\n",
    "        print(\"Configuration data was sent successfully\")\n",
    "        return True\n",
    "    \n",
    "    def SendCommand(self,serialCommand,command):\n",
    "        # send command replacing linebreak character appropriately\n",
    "        command = command.replace('\\r', '')\n",
    "        command = command.replace('\\n', '')\n",
    "        command += '\\n'\n",
    "        serialCommand.write(command.encode())\n",
    "\n",
    "        # wait for response\n",
    "        ret = serialCommand.read_until(b'\\nmmwDemo:/>')\n",
    "\n",
    "        # confirm response\n",
    "        # blank, comment, sensorReset do not output Done\n",
    "        if (\n",
    "            (command.strip() != '') and\n",
    "            (command.strip()[0] != '%') and\n",
    "            (command != 'sensorReset\\n')\n",
    "        ):\n",
    "            rets = ret.decode().split('\\n')\n",
    "            if (rets[len(rets) - 2] != 'Done'):\n",
    "                return False\n",
    "        return True\n",
    "    \n",
    "    def count_ones_by_bin(self,num):\n",
    "        bin_num = bin(num)[2:]\n",
    "        count = 0\n",
    "        for i in bin_num:\n",
    "            count += int(i)\n",
    "        return count\n",
    "        \n",
    "def ConvertDataFromBin2Mat(cfgname,path=0,save_dir='data_t14re'):\n",
    "    config = Config()\n",
    "    config.load_config(cfgname)\n",
    "\n",
    "    targ_dirs = os.listdir(path=save_dir)\n",
    "    if path==0:\n",
    "        targ_dir = save_dir + \"/\" + targ_dirs[-1]\n",
    "    else:\n",
    "        targ_dir = path\n",
    "\n",
    "    files = glob.glob(targ_dir + \"*/*.bin\")\n",
    "    print(\"Target directory:\",targ_dir)\n",
    "    num_file = len(files)\n",
    "    for i in range(num_file):\n",
    "        print('\\rfilenum: '+str(i+1)+'/'+str(num_file), end='')\n",
    "        fname = files[i]\n",
    "        fr = open(fname, 'rb')\n",
    "        data = np.frombuffer(fr.read(),np.uint8)\n",
    "        \n",
    "        # data2 = data.reshape(FramesPerData,ChirpsetsPerFrame,NTx*NRx,SamplesPerChirp,2,2)\n",
    "        data2 = data.reshape(config.FramesPerData,config.frameCfg['ChirpsetsPerFrame'],config.NTx*config.NRx,config.profileCfg['numAdcSamples'],2,2)\n",
    "        \n",
    "        I_data = (data2[:, :, :, :, 0, 0] + data2[:, :, :, :, 0, 1] * 256).astype(np.int16)\n",
    "        Q_data = (data2[:, :, :, :, 1, 0] + data2[:, :, :, :, 1, 1] * 256).astype(np.int16)\n",
    "        \n",
    "        I_data[I_data >= 0x8000] -= 0x10000\n",
    "        Q_data[Q_data >= 0x8000] -= 0x10000\n",
    "        \n",
    "        data_reshape = I_data + 1j * Q_data\n",
    "        \n",
    "        # save mat file\n",
    "        scipy.io.savemat(fname.replace('.bin','') + \".mat\", {'signals': data_reshape})"
   ]
  },
  {
   "cell_type": "code",
   "execution_count": null,
   "id": "924132a9-ccb0-40bb-a4b6-67a1e4b252d8",
   "metadata": {},
   "outputs": [],
   "source": []
  }
 ],
 "metadata": {
  "kernelspec": {
   "display_name": "Python 3 (ipykernel)",
   "language": "python",
   "name": "python3"
  },
  "language_info": {
   "codemirror_mode": {
    "name": "ipython",
    "version": 3
   },
   "file_extension": ".py",
   "mimetype": "text/x-python",
   "name": "python",
   "nbconvert_exporter": "python",
   "pygments_lexer": "ipython3",
   "version": "3.8.19"
  }
 },
 "nbformat": 4,
 "nbformat_minor": 5
}
