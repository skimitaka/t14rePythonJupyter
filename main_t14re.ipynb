{
 "cells": [
  {
   "cell_type": "code",
   "execution_count": 18,
   "id": "e00182c8",
   "metadata": {},
   "outputs": [],
   "source": [
    "from t14re import T14re, Config, ConvertDataFromBin2Mat\n",
    "import datetime"
   ]
  },
  {
   "cell_type": "code",
   "execution_count": 19,
   "id": "6b4a3307",
   "metadata": {},
   "outputs": [
    {
     "name": "stdout",
     "output_type": "stream",
     "text": [
      "Selected port: COM3\n",
      "Configuration data was sent successfully\n"
     ]
    }
   ],
   "source": [
    "t14re = T14re()\n",
    "# T14RE 2D\n",
    "cfgname = 'T14RE_2D_100fps.cfg'\n",
    "# T14RE 3D\n",
    "cfgname = 'T14RE_3D_100fps.cfg'\n",
    "\n",
    "t14re.load_and_send_config(cfgname)"
   ]
  },
  {
   "cell_type": "code",
   "execution_count": 20,
   "id": "394bcb17",
   "metadata": {},
   "outputs": [
    {
     "name": "stdout",
     "output_type": "stream",
     "text": [
      "width: 2048\n",
      "height: 120\n",
      "\n",
      "Connection has succeeded!\n"
     ]
    },
    {
     "data": {
      "text/plain": [
       "True"
      ]
     },
     "execution_count": 20,
     "metadata": {},
     "output_type": "execute_result"
    }
   ],
   "source": [
    "CaptureDeviceIndex = 0 # Disable any cameras except for a radar. Check Windows Device Manager.\n",
    "t14re.connect_and_setup_radar(CaptureDeviceIndex)"
   ]
  },
  {
   "cell_type": "code",
   "execution_count": 21,
   "id": "e947a1e6",
   "metadata": {},
   "outputs": [
    {
     "name": "stdout",
     "output_type": "stream",
     "text": [
      "Start datetime: 2024/09/29 17:12:03\n",
      "Capture until press q\n",
      "foldername: 2024-09-29-17-12-03-649557_t14re\n",
      "filecnt: 50"
     ]
    },
    {
     "name": "stdin",
     "output_type": "stream",
     "text": [
      "\n",
      "Press q to stop capturing:  q\n"
     ]
    },
    {
     "name": "stdout",
     "output_type": "stream",
     "text": [
      "filecnt: 53\n",
      "Finish\n"
     ]
    }
   ],
   "source": [
    "t14re.capture(0)"
   ]
  },
  {
   "cell_type": "code",
   "execution_count": 22,
   "id": "14033fc9",
   "metadata": {},
   "outputs": [
    {
     "name": "stdout",
     "output_type": "stream",
     "text": [
      "Disconnect.\n"
     ]
    }
   ],
   "source": [
    "t14re.disconnect()"
   ]
  },
  {
   "cell_type": "code",
   "execution_count": 5,
   "id": "294f9de2",
   "metadata": {},
   "outputs": [
    {
     "name": "stdout",
     "output_type": "stream",
     "text": [
      "Target directory: data_t14re/2023-12-15-12-23-00-488974_t14re\n",
      "filenum: 6314/6314"
     ]
    }
   ],
   "source": [
    "# convert \n",
    "#cfgname = 'T14RE_2D_100fps.cfg'\n",
    "#ConvertDataFromBin2Mat(cfgname)"
   ]
  },
  {
   "cell_type": "code",
   "execution_count": null,
   "id": "e9c4c291",
   "metadata": {},
   "outputs": [],
   "source": [
    "## if you want to specify the full path\n",
    "# path = r'C:\\Users\\IST-Lab\\Dropbox\\Lab_Dropbox\\t14re_dataCapApp\\data_t14re\\2023-02-16-17-14-15-692031_t14re'\n",
    "# ConvertDataFromBin2Mat(cfgname,path=path)"
   ]
  },
  {
   "cell_type": "code",
   "execution_count": 7,
   "id": "8ee144f2",
   "metadata": {},
   "outputs": [
    {
     "name": "stdout",
     "output_type": "stream",
     "text": [
      "Disconnect.\n"
     ]
    }
   ],
   "source": []
  },
  {
   "cell_type": "markdown",
   "id": "eb321b07",
   "metadata": {},
   "source": [
    "## Start capturing at a specified time"
   ]
  },
  {
   "cell_type": "code",
   "execution_count": null,
   "id": "8ffb0bc3",
   "metadata": {},
   "outputs": [],
   "source": [
    "startDatetime = datetime.datetime(2023,2,9,hour=10,minute=0,second=0)\n",
    "t14re.capture(0,startDatetime)"
   ]
  },
  {
   "cell_type": "markdown",
   "id": "3f2df35c",
   "metadata": {},
   "source": [
    "### Stop capturing at a specified time"
   ]
  },
  {
   "cell_type": "code",
   "execution_count": null,
   "id": "45c2888e",
   "metadata": {},
   "outputs": [],
   "source": [
    "startDatetime = datetime.datetime(2023,2,9,hour=10,minute=0,second=0)\n",
    "endDatetime = datetime.datetime(2023,2,9,hour=10,minute=40,second=50)\n",
    "t14re.capture(0,startDatetime,endDatetime)"
   ]
  }
 ],
 "metadata": {
  "kernelspec": {
   "display_name": "Python 3 (ipykernel)",
   "language": "python",
   "name": "python3"
  },
  "language_info": {
   "codemirror_mode": {
    "name": "ipython",
    "version": 3
   },
   "file_extension": ".py",
   "mimetype": "text/x-python",
   "name": "python",
   "nbconvert_exporter": "python",
   "pygments_lexer": "ipython3",
   "version": "3.8.19"
  }
 },
 "nbformat": 4,
 "nbformat_minor": 5
}
